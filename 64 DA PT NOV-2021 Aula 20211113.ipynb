{
 "cells": [
  {
   "cell_type": "markdown",
   "metadata": {},
   "source": [
    "# Some python inherent `data structures`"
   ]
  },
  {
   "cell_type": "markdown",
   "metadata": {},
   "source": [
    "- Lists (recap)\n",
    "- Tuples\n",
    "- Dicts\n",
    "- Sets"
   ]
  },
  {
   "cell_type": "markdown",
   "metadata": {},
   "source": [
    "# Lists"
   ]
  },
  {
   "cell_type": "markdown",
   "metadata": {},
   "source": [
    "- Lists are identified by `bracket` and `comma` separation\n",
    "\n",
    "- Lists are mutable sequences of elements"
   ]
  },
  {
   "cell_type": "code",
   "execution_count": 2,
   "metadata": {},
   "outputs": [
    {
     "name": "stdout",
     "output_type": "stream",
     "text": [
      "[10, 1, 3]\n"
     ]
    }
   ],
   "source": [
    "list([10, 1, 3])\n",
    "print([10, 1, 3])"
   ]
  },
  {
   "cell_type": "code",
   "execution_count": 4,
   "metadata": {},
   "outputs": [
    {
     "name": "stdout",
     "output_type": "stream",
     "text": [
      "[10, 20, 30]\n"
     ]
    }
   ],
   "source": [
    "list_ex = [10, 20, 30]\n",
    "print(list_ex)"
   ]
  },
  {
   "cell_type": "code",
   "execution_count": 6,
   "metadata": {},
   "outputs": [
    {
     "name": "stdout",
     "output_type": "stream",
     "text": [
      "10\n",
      "20\n",
      "30\n"
     ]
    }
   ],
   "source": [
    "print(list_ex[0])\n",
    "print(list_ex[1])\n",
    "print(list_ex[2])"
   ]
  },
  {
   "cell_type": "code",
   "execution_count": 10,
   "metadata": {},
   "outputs": [
    {
     "ename": "IndexError",
     "evalue": "list index out of range",
     "output_type": "error",
     "traceback": [
      "\u001b[1;31m---------------------------------------------------------------------------\u001b[0m",
      "\u001b[1;31mIndexError\u001b[0m                                Traceback (most recent call last)",
      "\u001b[1;32m<ipython-input-10-45eee638c5b4>\u001b[0m in \u001b[0;36m<module>\u001b[1;34m\u001b[0m\n\u001b[1;32m----> 1\u001b[1;33m \u001b[0mlist_ex\u001b[0m\u001b[1;33m[\u001b[0m\u001b[1;36m3\u001b[0m\u001b[1;33m]\u001b[0m\u001b[1;33m\u001b[0m\u001b[1;33m\u001b[0m\u001b[0m\n\u001b[0m",
      "\u001b[1;31mIndexError\u001b[0m: list index out of range"
     ]
    }
   ],
   "source": [
    "list_ex[3]"
   ]
  },
  {
   "cell_type": "code",
   "execution_count": 12,
   "metadata": {},
   "outputs": [
    {
     "name": "stdout",
     "output_type": "stream",
     "text": [
      "['Zero', 20, 30]\n",
      "Zero\n",
      "20\n",
      "30\n"
     ]
    }
   ],
   "source": [
    "list_ex[0] = 'Zero'\n",
    "print(list_ex)\n",
    "print(list_ex[0])\n",
    "print(list_ex[1])\n",
    "print(list_ex[2])"
   ]
  },
  {
   "cell_type": "code",
   "execution_count": 13,
   "metadata": {},
   "outputs": [
    {
     "name": "stdout",
     "output_type": "stream",
     "text": [
      "['Zero', 20, 30, 40]\n"
     ]
    }
   ],
   "source": [
    "list_ex.append(40)\n",
    "print(list_ex)"
   ]
  },
  {
   "cell_type": "code",
   "execution_count": 14,
   "metadata": {},
   "outputs": [
    {
     "name": "stdout",
     "output_type": "stream",
     "text": [
      "['Zero', 20, 30, 40, 50, 60]\n"
     ]
    }
   ],
   "source": [
    "list_ex.extend([50, 60])\n",
    "print(list_ex)\n",
    "list_ex.append(50)\n",
    "list_ex.append(60)\n",
    "\n",
    "for elemento in [50, 60]:\n",
    "    list_ex.append(elemento)"
   ]
  },
  {
   "cell_type": "code",
   "execution_count": 15,
   "metadata": {},
   "outputs": [
    {
     "name": "stdout",
     "output_type": "stream",
     "text": [
      "['Zero', 20, 30, 40, 50, 60, 70, [80, 90]]\n"
     ]
    }
   ],
   "source": [
    "minha_extensao = [70, [80, 90]]\n",
    "list_ex.extend(minha_extensao)\n",
    "print(list_ex)"
   ]
  },
  {
   "cell_type": "code",
   "execution_count": 16,
   "metadata": {},
   "outputs": [
    {
     "name": "stdout",
     "output_type": "stream",
     "text": [
      "[80, 90]\n",
      "['Zero', 20, 30, 40, 50, 60, 70]\n"
     ]
    }
   ],
   "source": [
    "ultimo_elemento = list_ex.pop()\n",
    "print(ultimo_elemento)\n",
    "print(list_ex)"
   ]
  },
  {
   "cell_type": "code",
   "execution_count": 20,
   "metadata": {},
   "outputs": [
    {
     "data": {
      "text/plain": [
       "50"
      ]
     },
     "execution_count": 20,
     "metadata": {},
     "output_type": "execute_result"
    }
   ],
   "source": [
    "list_ex.pop()"
   ]
  },
  {
   "cell_type": "code",
   "execution_count": 27,
   "metadata": {},
   "outputs": [
    {
     "name": "stdout",
     "output_type": "stream",
     "text": [
      "['Zero']\n"
     ]
    }
   ],
   "source": [
    "print(list_ex[:])"
   ]
  },
  {
   "cell_type": "code",
   "execution_count": 31,
   "metadata": {},
   "outputs": [
    {
     "name": "stdout",
     "output_type": "stream",
     "text": [
      "[1, [2, [3, [4]]]]\n",
      "[2, [3, [4]]]\n",
      "[3, [4]]\n",
      "[4]\n",
      "[4, 3, 2, 1]\n"
     ]
    }
   ],
   "source": [
    "# Um jeito mais bonito de achatar listas\n",
    "list_ex = [1, [2, [3, [4]]]]\n",
    "print(list_ex)\n",
    "\n",
    "chata = []\n",
    "# [2, [3, [4]]]\n",
    "# [1, 2, [3, [4]]]\n",
    "# [3, [4]]\n",
    "# [1, 2, 3, [4]]\n",
    "# [4]\n",
    "# [1, 2, 3, 4]\n",
    "\n",
    "while list_ex:\n",
    "    elemento = list_ex.pop()\n",
    "    if type(elemento) == list:\n",
    "        print(elemento)\n",
    "        list_ex.extend(elemento)\n",
    "    else:\n",
    "        chata.append(elemento)\n",
    "\n",
    "print(chata)"
   ]
  },
  {
   "cell_type": "code",
   "execution_count": 30,
   "metadata": {},
   "outputs": [
    {
     "name": "stdout",
     "output_type": "stream",
     "text": [
      "[]\n"
     ]
    }
   ],
   "source": [
    "print(list_ex)"
   ]
  },
  {
   "cell_type": "markdown",
   "metadata": {},
   "source": [
    "# Tuples"
   ]
  },
  {
   "cell_type": "markdown",
   "metadata": {},
   "source": [
    "- Tuples are identified by `parenthesis` and `comma` separation\n",
    "\n",
    "- Tuples are immutable sequences of elements"
   ]
  },
  {
   "cell_type": "markdown",
   "metadata": {},
   "source": [
    "## Creating a tuple"
   ]
  },
  {
   "cell_type": "code",
   "execution_count": 32,
   "metadata": {
    "ExecuteTime": {
     "end_time": "2020-07-09T22:45:47.947147Z",
     "start_time": "2020-07-09T22:45:47.939168Z"
    }
   },
   "outputs": [
    {
     "data": {
      "text/plain": [
       "(10,)"
      ]
     },
     "execution_count": 32,
     "metadata": {},
     "output_type": "execute_result"
    }
   ],
   "source": [
    "tuple((10, ))"
   ]
  },
  {
   "cell_type": "code",
   "execution_count": null,
   "metadata": {},
   "outputs": [],
   "source": []
  },
  {
   "cell_type": "code",
   "execution_count": 33,
   "metadata": {},
   "outputs": [
    {
     "name": "stdout",
     "output_type": "stream",
     "text": [
      "(10, 20, 30)\n"
     ]
    }
   ],
   "source": [
    "tuple_ex = (10, 20, 30)\n",
    "print(tuple_ex)"
   ]
  },
  {
   "cell_type": "code",
   "execution_count": 37,
   "metadata": {},
   "outputs": [
    {
     "name": "stdout",
     "output_type": "stream",
     "text": [
      "1\n",
      "2\n",
      "3\n"
     ]
    }
   ],
   "source": [
    "a, b, c = tuple_ex\n",
    "print(a)\n",
    "print(b)\n",
    "print(c)"
   ]
  },
  {
   "cell_type": "code",
   "execution_count": 38,
   "metadata": {},
   "outputs": [
    {
     "data": {
      "text/plain": [
       "tuple"
      ]
     },
     "execution_count": 38,
     "metadata": {},
     "output_type": "execute_result"
    }
   ],
   "source": [
    "type(('oi', 'tchau', 10))"
   ]
  },
  {
   "cell_type": "markdown",
   "metadata": {},
   "source": [
    "## Converting a `list` into a `tuple`"
   ]
  },
  {
   "cell_type": "code",
   "execution_count": 47,
   "metadata": {
    "ExecuteTime": {
     "end_time": "2020-07-09T22:53:37.037379Z",
     "start_time": "2020-07-09T22:53:37.033390Z"
    }
   },
   "outputs": [
    {
     "name": "stdout",
     "output_type": "stream",
     "text": [
      "30\n",
      "[10, 20, 30]\n",
      "(20, 30)\n",
      "<class 'tuple'>\n"
     ]
    }
   ],
   "source": [
    "minha_lista = [10, 20, 30]\n",
    "minha_upla = tuple(minha_lista)\n",
    "print(minha_lista)\n",
    "print(minha_upla)\n",
    "print(type(minha_upla))"
   ]
  },
  {
   "cell_type": "code",
   "execution_count": 40,
   "metadata": {},
   "outputs": [
    {
     "name": "stdout",
     "output_type": "stream",
     "text": [
      "<class 'tuple'>\n"
     ]
    }
   ],
   "source": [
    "tuple_ex = tuple([10, 20, 30])\n",
    "print(type(tuple_ex))"
   ]
  },
  {
   "cell_type": "code",
   "execution_count": 49,
   "metadata": {},
   "outputs": [
    {
     "name": "stdout",
     "output_type": "stream",
     "text": [
      "0\n",
      "1\n",
      "2\n",
      "3\n",
      "4\n",
      "5\n",
      "6\n",
      "7\n",
      "8\n",
      "9\n",
      "range(0, 10)\n",
      "[0, 1, 2, 3, 4, 5, 6, 7, 8, 9]\n",
      "(0, 1, 2, 3, 4, 5, 6, 7, 8, 9)\n"
     ]
    }
   ],
   "source": [
    "meu_range = range(0, 10)\n",
    "for i in tuple(meu_range):\n",
    "    print(i)\n",
    "print(meu_range)\n",
    "print(list(meu_range))\n",
    "print(tuple(meu_range))"
   ]
  },
  {
   "cell_type": "code",
   "execution_count": null,
   "metadata": {},
   "outputs": [],
   "source": [
    "tuple(range(0, 10))"
   ]
  },
  {
   "cell_type": "markdown",
   "metadata": {},
   "source": [
    "## <u>Accessing</u> an element in a tuple"
   ]
  },
  {
   "cell_type": "markdown",
   "metadata": {},
   "source": [
    "Imagine I create a service that, given the address, it returns me latitude and longitude as a tuple, i.e., `(lat, long)`"
   ]
  },
  {
   "cell_type": "code",
   "execution_count": 50,
   "metadata": {
    "ExecuteTime": {
     "end_time": "2020-07-09T23:04:54.802409Z",
     "start_time": "2020-07-09T23:04:54.799414Z"
    }
   },
   "outputs": [],
   "source": [
    "coords = (-23.561762, -46.660213)"
   ]
  },
  {
   "cell_type": "markdown",
   "metadata": {},
   "source": [
    "If I want to access the `latitude` (i.e., the first element):"
   ]
  },
  {
   "cell_type": "code",
   "execution_count": 51,
   "metadata": {},
   "outputs": [
    {
     "data": {
      "text/plain": [
       "-23.561762"
      ]
     },
     "execution_count": 51,
     "metadata": {},
     "output_type": "execute_result"
    }
   ],
   "source": [
    "coords[0]"
   ]
  },
  {
   "cell_type": "code",
   "execution_count": 52,
   "metadata": {},
   "outputs": [],
   "source": [
    "# multiple assignment\n",
    "lat, long = coords"
   ]
  },
  {
   "cell_type": "code",
   "execution_count": 53,
   "metadata": {},
   "outputs": [
    {
     "data": {
      "text/plain": [
       "-23.561762"
      ]
     },
     "execution_count": 53,
     "metadata": {},
     "output_type": "execute_result"
    }
   ],
   "source": [
    "lat"
   ]
  },
  {
   "cell_type": "code",
   "execution_count": 54,
   "metadata": {},
   "outputs": [
    {
     "data": {
      "text/plain": [
       "-46.660213"
      ]
     },
     "execution_count": 54,
     "metadata": {},
     "output_type": "execute_result"
    }
   ],
   "source": [
    "long"
   ]
  },
  {
   "cell_type": "code",
   "execution_count": 55,
   "metadata": {},
   "outputs": [],
   "source": [
    "lat = coords[0]\n",
    "long = coords[1]"
   ]
  },
  {
   "cell_type": "code",
   "execution_count": 56,
   "metadata": {},
   "outputs": [
    {
     "data": {
      "text/plain": [
       "-23.561762"
      ]
     },
     "execution_count": 56,
     "metadata": {},
     "output_type": "execute_result"
    }
   ],
   "source": [
    "lat"
   ]
  },
  {
   "cell_type": "code",
   "execution_count": 57,
   "metadata": {},
   "outputs": [
    {
     "data": {
      "text/plain": [
       "-46.660213"
      ]
     },
     "execution_count": 57,
     "metadata": {},
     "output_type": "execute_result"
    }
   ],
   "source": [
    "long"
   ]
  },
  {
   "cell_type": "markdown",
   "metadata": {},
   "source": [
    "These are called `indices` (or `index`) "
   ]
  },
  {
   "cell_type": "code",
   "execution_count": 58,
   "metadata": {},
   "outputs": [
    {
     "data": {
      "text/plain": [
       "(-23.561762, -46.660213)"
      ]
     },
     "execution_count": 58,
     "metadata": {},
     "output_type": "execute_result"
    }
   ],
   "source": [
    "coords"
   ]
  },
  {
   "cell_type": "code",
   "execution_count": 61,
   "metadata": {
    "ExecuteTime": {
     "end_time": "2020-07-09T23:09:49.217940Z",
     "start_time": "2020-07-09T23:09:49.213923Z"
    }
   },
   "outputs": [
    {
     "ename": "IndexError",
     "evalue": "tuple index out of range",
     "output_type": "error",
     "traceback": [
      "\u001b[1;31m---------------------------------------------------------------------------\u001b[0m",
      "\u001b[1;31mIndexError\u001b[0m                                Traceback (most recent call last)",
      "\u001b[1;32m<ipython-input-61-c6653baf4ec9>\u001b[0m in \u001b[0;36m<module>\u001b[1;34m\u001b[0m\n\u001b[0;32m      2\u001b[0m \u001b[1;31m# Accessing 0 returns the first element, 1 accesses the second element and so on\u001b[0m\u001b[1;33m\u001b[0m\u001b[1;33m\u001b[0m\u001b[1;33m\u001b[0m\u001b[0m\n\u001b[0;32m      3\u001b[0m \u001b[1;31m# Accessing -1 returns the last element, -2 the second to last element and so on\u001b[0m\u001b[1;33m\u001b[0m\u001b[1;33m\u001b[0m\u001b[1;33m\u001b[0m\u001b[0m\n\u001b[1;32m----> 4\u001b[1;33m \u001b[0mcoords\u001b[0m\u001b[1;33m[\u001b[0m\u001b[1;33m-\u001b[0m\u001b[1;36m3\u001b[0m\u001b[1;33m]\u001b[0m\u001b[1;33m\u001b[0m\u001b[1;33m\u001b[0m\u001b[0m\n\u001b[0m",
      "\u001b[1;31mIndexError\u001b[0m: tuple index out of range"
     ]
    }
   ],
   "source": [
    "# think of tuples (and lists) as a circular element. \n",
    "# Accessing 0 returns the first element, 1 accesses the second element and so on\n",
    "# Accessing -1 returns the last element, -2 the second to last element and so on\n",
    "coords[-3]"
   ]
  },
  {
   "cell_type": "code",
   "execution_count": 62,
   "metadata": {},
   "outputs": [
    {
     "data": {
      "text/plain": [
       "2"
      ]
     },
     "execution_count": 62,
     "metadata": {},
     "output_type": "execute_result"
    }
   ],
   "source": [
    "len(coords)"
   ]
  },
  {
   "cell_type": "markdown",
   "metadata": {},
   "source": [
    "## Running through a tuple"
   ]
  },
  {
   "cell_type": "markdown",
   "metadata": {},
   "source": [
    "Tuples and lists are what is called in Python **iterable**. It means you can run through it. \n",
    "\n",
    "The syntax is simple: \n",
    "\n",
    "```python\n",
    "my_tuple = (1, 5, 8)\n",
    "\n",
    "for element in my_tuple:\n",
    "    # now you have access to each element\n",
    "    print(element)\n",
    "\n",
    "# Output\n",
    "1\n",
    "5\n",
    "8\n",
    "```\n"
   ]
  },
  {
   "cell_type": "markdown",
   "metadata": {},
   "source": [
    "What a loop like below\n",
    "```python\n",
    "coords = (-23.561762, -46.660213)\n",
    "\n",
    "for i in coords:\n",
    "    print(i)\n",
    "```\n",
    "\n",
    "is effectively doing is:\n",
    "    \n",
    "```python\n",
    "coords = (-23.561762, -46.660213)\n",
    "\n",
    "# first step of the loop\n",
    "i = coords[0]\n",
    "print(i)\n",
    "# second step of the loop\n",
    "i = coords[1]\n",
    "print(i)\n",
    "```\n",
    "\n",
    "which expands to the following:\n",
    "\n",
    "```python\n",
    "coords = (-23.561762, -46.660213)\n",
    "\n",
    "# first step of the loop\n",
    "i = -23.561762\n",
    "print(i)\n",
    "# second step of the loop\n",
    "i = -46.660213\n",
    "print(i)\n",
    "```"
   ]
  },
  {
   "cell_type": "code",
   "execution_count": 64,
   "metadata": {
    "ExecuteTime": {
     "end_time": "2020-07-09T23:18:32.840220Z",
     "start_time": "2020-07-09T23:18:32.833238Z"
    },
    "scrolled": true
   },
   "outputs": [
    {
     "ename": "TypeError",
     "evalue": "'tuple' object does not support item assignment",
     "output_type": "error",
     "traceback": [
      "\u001b[1;31m---------------------------------------------------------------------------\u001b[0m",
      "\u001b[1;31mTypeError\u001b[0m                                 Traceback (most recent call last)",
      "\u001b[1;32m<ipython-input-64-c5bd2503c285>\u001b[0m in \u001b[0;36m<module>\u001b[1;34m\u001b[0m\n\u001b[0;32m      1\u001b[0m \u001b[1;31m# will through an error\u001b[0m\u001b[1;33m\u001b[0m\u001b[1;33m\u001b[0m\u001b[1;33m\u001b[0m\u001b[0m\n\u001b[1;32m----> 2\u001b[1;33m \u001b[0mcoords\u001b[0m\u001b[1;33m[\u001b[0m\u001b[1;36m0\u001b[0m\u001b[1;33m]\u001b[0m \u001b[1;33m=\u001b[0m \u001b[1;33m-\u001b[0m\u001b[1;36m25.8\u001b[0m\u001b[1;33m\u001b[0m\u001b[1;33m\u001b[0m\u001b[0m\n\u001b[0m",
      "\u001b[1;31mTypeError\u001b[0m: 'tuple' object does not support item assignment"
     ]
    }
   ],
   "source": [
    "# will through an error\n",
    "coords[0] = -25.8"
   ]
  },
  {
   "cell_type": "code",
   "execution_count": 63,
   "metadata": {
    "ExecuteTime": {
     "end_time": "2020-07-09T23:19:04.442284Z",
     "start_time": "2020-07-09T23:19:04.438295Z"
    }
   },
   "outputs": [
    {
     "name": "stdout",
     "output_type": "stream",
     "text": [
      "[10, 20, 30]\n",
      "[0, 20, 30]\n"
     ]
    }
   ],
   "source": [
    "# but lists are mutable\n",
    "my_list = [10, 20, 30]\n",
    "print(my_list)\n",
    "my_list[0] = 0\n",
    "print(my_list)"
   ]
  },
  {
   "cell_type": "code",
   "execution_count": 67,
   "metadata": {},
   "outputs": [
    {
     "ename": "TypeError",
     "evalue": "'str' object does not support item assignment",
     "output_type": "error",
     "traceback": [
      "\u001b[1;31m---------------------------------------------------------------------------\u001b[0m",
      "\u001b[1;31mTypeError\u001b[0m                                 Traceback (most recent call last)",
      "\u001b[1;32m<ipython-input-67-4ec1f46026d5>\u001b[0m in \u001b[0;36m<module>\u001b[1;34m\u001b[0m\n\u001b[0;32m      1\u001b[0m \u001b[0mnome\u001b[0m \u001b[1;33m=\u001b[0m \u001b[1;34m'Pedro'\u001b[0m\u001b[1;33m\u001b[0m\u001b[1;33m\u001b[0m\u001b[0m\n\u001b[1;32m----> 2\u001b[1;33m \u001b[0mnome\u001b[0m\u001b[1;33m[\u001b[0m\u001b[1;33m-\u001b[0m\u001b[1;36m1\u001b[0m\u001b[1;33m]\u001b[0m \u001b[1;33m=\u001b[0m \u001b[1;34m'a'\u001b[0m\u001b[1;33m\u001b[0m\u001b[1;33m\u001b[0m\u001b[0m\n\u001b[0m",
      "\u001b[1;31mTypeError\u001b[0m: 'str' object does not support item assignment"
     ]
    }
   ],
   "source": [
    "nome = 'Pedro'\n",
    "nome[-1] = 'a'"
   ]
  },
  {
   "cell_type": "code",
   "execution_count": 68,
   "metadata": {},
   "outputs": [],
   "source": [
    "my_list.append(10)"
   ]
  },
  {
   "cell_type": "code",
   "execution_count": 69,
   "metadata": {},
   "outputs": [
    {
     "data": {
      "text/plain": [
       "[-23.561762, -46.660213]"
      ]
     },
     "execution_count": 69,
     "metadata": {},
     "output_type": "execute_result"
    }
   ],
   "source": [
    "list(coords)"
   ]
  },
  {
   "cell_type": "code",
   "execution_count": 70,
   "metadata": {},
   "outputs": [
    {
     "data": {
      "text/plain": [
       "(0, 20, 30, 10)"
      ]
     },
     "execution_count": 70,
     "metadata": {},
     "output_type": "execute_result"
    }
   ],
   "source": [
    "tuple(my_list)"
   ]
  },
  {
   "cell_type": "code",
   "execution_count": 71,
   "metadata": {
    "ExecuteTime": {
     "end_time": "2020-07-09T23:21:41.034390Z",
     "start_time": "2020-07-09T23:21:41.030371Z"
    }
   },
   "outputs": [
    {
     "name": "stdout",
     "output_type": "stream",
     "text": [
      "-23.561762\n",
      "-46.660213\n"
     ]
    }
   ],
   "source": [
    "# you can use any name to perform a loop through an iterable.\n",
    "# usually you want to give names that means something\n",
    "for banana in coords:\n",
    "    print(banana)"
   ]
  },
  {
   "cell_type": "markdown",
   "metadata": {},
   "source": [
    "## Tuple methods\n",
    "\n",
    "- `count`: returns the number of occurences of the value you specify \n",
    "- `index`: returns the first index of the value you specify"
   ]
  },
  {
   "cell_type": "code",
   "execution_count": 72,
   "metadata": {
    "ExecuteTime": {
     "end_time": "2020-07-09T23:32:03.570210Z",
     "start_time": "2020-07-09T23:32:03.566220Z"
    }
   },
   "outputs": [],
   "source": [
    "# Your code here!\n",
    "y = (1, 3, 7, 4, 6, 3, 8, 8)"
   ]
  },
  {
   "cell_type": "code",
   "execution_count": 73,
   "metadata": {},
   "outputs": [
    {
     "data": {
      "text/plain": [
       "2"
      ]
     },
     "execution_count": 73,
     "metadata": {},
     "output_type": "execute_result"
    }
   ],
   "source": [
    "y.count(8)"
   ]
  },
  {
   "cell_type": "code",
   "execution_count": 74,
   "metadata": {},
   "outputs": [
    {
     "data": {
      "text/plain": [
       "6"
      ]
     },
     "execution_count": 74,
     "metadata": {},
     "output_type": "execute_result"
    }
   ],
   "source": [
    "y.index(8)"
   ]
  },
  {
   "cell_type": "code",
   "execution_count": 75,
   "metadata": {},
   "outputs": [
    {
     "data": {
      "text/plain": [
       "8"
      ]
     },
     "execution_count": 75,
     "metadata": {},
     "output_type": "execute_result"
    }
   ],
   "source": [
    "len(y)"
   ]
  },
  {
   "cell_type": "code",
   "execution_count": 76,
   "metadata": {},
   "outputs": [],
   "source": [
    "y_list = list(y)"
   ]
  },
  {
   "cell_type": "code",
   "execution_count": 77,
   "metadata": {},
   "outputs": [
    {
     "data": {
      "text/plain": [
       "[1, 3, 7, 4, 6, 3, 8, 8]"
      ]
     },
     "execution_count": 77,
     "metadata": {},
     "output_type": "execute_result"
    }
   ],
   "source": [
    "y_list"
   ]
  },
  {
   "cell_type": "code",
   "execution_count": 78,
   "metadata": {},
   "outputs": [
    {
     "data": {
      "text/plain": [
       "6"
      ]
     },
     "execution_count": 78,
     "metadata": {},
     "output_type": "execute_result"
    }
   ],
   "source": [
    "y.index(8)"
   ]
  },
  {
   "cell_type": "code",
   "execution_count": 84,
   "metadata": {},
   "outputs": [
    {
     "name": "stdout",
     "output_type": "stream",
     "text": [
      "(-23.561762, -30)\n"
     ]
    }
   ],
   "source": [
    "coords\n",
    "lat, long = coords\n",
    "long_novo = -30\n",
    "coords = (lat, long_novo)\n",
    "print(coords)"
   ]
  },
  {
   "cell_type": "markdown",
   "metadata": {},
   "source": [
    "## Built in functions - `sorted()`\n",
    "\n",
    "- Sort a tuple (or any **iterable** actually)"
   ]
  },
  {
   "cell_type": "code",
   "execution_count": 85,
   "metadata": {},
   "outputs": [
    {
     "data": {
      "text/plain": [
       "(1, 3, 7, 4, 6, 3, 8, 8)"
      ]
     },
     "execution_count": 85,
     "metadata": {},
     "output_type": "execute_result"
    }
   ],
   "source": [
    "y"
   ]
  },
  {
   "cell_type": "code",
   "execution_count": 93,
   "metadata": {},
   "outputs": [
    {
     "name": "stdout",
     "output_type": "stream",
     "text": [
      "[8, 8, 7, 6, 4, 3, 3, 1]\n",
      "True\n"
     ]
    }
   ],
   "source": [
    "print(sorted(y, reverse=True))\n",
    "print(sorted(y, reverse=False) == sorted(y))"
   ]
  },
  {
   "cell_type": "markdown",
   "metadata": {},
   "source": [
    "## Slicing\n",
    "\n",
    "`Slicing` means: take a part specific `part`/`sequence` of elements\n",
    "\n",
    "Slices have a syntax of `[starting_index:ending_index]`"
   ]
  },
  {
   "cell_type": "markdown",
   "metadata": {},
   "source": [
    "* `a[start:stop]` -> items start through stop-1\n",
    "* `a[start:]` -> items start through the rest of the array\n",
    "* `a[:stop]` -> items from the beginning through stop-1\n",
    "* `a[:]` -> a copy of the whole array"
   ]
  },
  {
   "cell_type": "code",
   "execution_count": 94,
   "metadata": {
    "ExecuteTime": {
     "end_time": "2020-07-09T23:40:03.707134Z",
     "start_time": "2020-07-09T23:40:03.703144Z"
    }
   },
   "outputs": [
    {
     "data": {
      "text/plain": [
       "(9, 8, 5, 6, 10, 8, 10)"
      ]
     },
     "execution_count": 94,
     "metadata": {},
     "output_type": "execute_result"
    }
   ],
   "source": [
    "grades = (9,8,5,6,10,8,10)\n",
    "grades"
   ]
  },
  {
   "cell_type": "code",
   "execution_count": 95,
   "metadata": {},
   "outputs": [
    {
     "data": {
      "text/plain": [
       "9"
      ]
     },
     "execution_count": 95,
     "metadata": {},
     "output_type": "execute_result"
    }
   ],
   "source": [
    "grades[0]"
   ]
  },
  {
   "cell_type": "code",
   "execution_count": 96,
   "metadata": {},
   "outputs": [
    {
     "data": {
      "text/plain": [
       "7"
      ]
     },
     "execution_count": 96,
     "metadata": {},
     "output_type": "execute_result"
    }
   ],
   "source": [
    "len(grades)"
   ]
  },
  {
   "cell_type": "code",
   "execution_count": 97,
   "metadata": {},
   "outputs": [
    {
     "ename": "IndexError",
     "evalue": "tuple index out of range",
     "output_type": "error",
     "traceback": [
      "\u001b[1;31m---------------------------------------------------------------------------\u001b[0m",
      "\u001b[1;31mIndexError\u001b[0m                                Traceback (most recent call last)",
      "\u001b[1;32m<ipython-input-97-7628750c9949>\u001b[0m in \u001b[0;36m<module>\u001b[1;34m\u001b[0m\n\u001b[1;32m----> 1\u001b[1;33m \u001b[0mgrades\u001b[0m\u001b[1;33m[\u001b[0m\u001b[1;36m100\u001b[0m\u001b[1;33m]\u001b[0m\u001b[1;33m\u001b[0m\u001b[1;33m\u001b[0m\u001b[0m\n\u001b[0m",
      "\u001b[1;31mIndexError\u001b[0m: tuple index out of range"
     ]
    }
   ],
   "source": [
    "grades[100]"
   ]
  },
  {
   "cell_type": "code",
   "execution_count": 98,
   "metadata": {},
   "outputs": [
    {
     "data": {
      "text/plain": [
       "(9, 8, 5, 6, 10, 8, 10)"
      ]
     },
     "execution_count": 98,
     "metadata": {},
     "output_type": "execute_result"
    }
   ],
   "source": [
    "grades"
   ]
  },
  {
   "cell_type": "code",
   "execution_count": 105,
   "metadata": {
    "ExecuteTime": {
     "end_time": "2020-07-09T23:41:14.680627Z",
     "start_time": "2020-07-09T23:41:14.676637Z"
    }
   },
   "outputs": [
    {
     "name": "stdout",
     "output_type": "stream",
     "text": [
      "5\n",
      "10\n",
      "(5, 6, 10, 8)\n"
     ]
    }
   ],
   "source": [
    "\n",
    "print(grades[2])\n",
    "print(grades[6])\n",
    "print(grades[2:6])"
   ]
  },
  {
   "cell_type": "code",
   "execution_count": 111,
   "metadata": {},
   "outputs": [
    {
     "name": "stdout",
     "output_type": "stream",
     "text": [
      "5\n",
      "(5, 6, 10, 8, 10)\n"
     ]
    }
   ],
   "source": [
    "# do 5 em diante (ou do terceiro índice em diante)\n",
    "print(grades[2])\n",
    "print(grades[2:])"
   ]
  },
  {
   "cell_type": "code",
   "execution_count": 110,
   "metadata": {
    "ExecuteTime": {
     "end_time": "2020-07-09T23:42:29.727629Z",
     "start_time": "2020-07-09T23:42:29.724119Z"
    },
    "scrolled": true
   },
   "outputs": [
    {
     "name": "stdout",
     "output_type": "stream",
     "text": [
      "6\n",
      "(9, 8, 5)\n"
     ]
    }
   ],
   "source": [
    "# do 5 pra tras (do terceiro indice pra trás)\n",
    "print(grades[3])\n",
    "print(grades[:3])"
   ]
  },
  {
   "cell_type": "code",
   "execution_count": 112,
   "metadata": {},
   "outputs": [
    {
     "data": {
      "text/plain": [
       "(9, 8, 5, 6, 10)"
      ]
     },
     "execution_count": 112,
     "metadata": {},
     "output_type": "execute_result"
    }
   ],
   "source": [
    "grades[:-2]"
   ]
  },
  {
   "cell_type": "code",
   "execution_count": 113,
   "metadata": {},
   "outputs": [
    {
     "data": {
      "text/plain": [
       "(8, 10)"
      ]
     },
     "execution_count": 113,
     "metadata": {},
     "output_type": "execute_result"
    }
   ],
   "source": [
    "grades[-2:]"
   ]
  },
  {
   "cell_type": "code",
   "execution_count": 114,
   "metadata": {},
   "outputs": [
    {
     "data": {
      "text/plain": [
       "(9, 8, 5, 6, 10, 8, 10)"
      ]
     },
     "execution_count": 114,
     "metadata": {},
     "output_type": "execute_result"
    }
   ],
   "source": [
    "grades[:]"
   ]
  },
  {
   "cell_type": "code",
   "execution_count": 120,
   "metadata": {},
   "outputs": [
    {
     "name": "stdout",
     "output_type": "stream",
     "text": [
      "[1, 2, 3]\n",
      "[[1, 2, 3]]\n"
     ]
    }
   ],
   "source": [
    "lista_orig = [1,2,3]\n",
    "lista_copia = [lista_orig]\n",
    "\n",
    "print(lista_orig)\n",
    "print(lista_copia)"
   ]
  },
  {
   "cell_type": "code",
   "execution_count": 121,
   "metadata": {},
   "outputs": [
    {
     "name": "stdout",
     "output_type": "stream",
     "text": [
      "[2, 2, 3]\n",
      "[[2, 2, 3]]\n"
     ]
    }
   ],
   "source": [
    "lista_orig[0] = 2\n",
    "\n",
    "print(lista_orig)\n",
    "print(lista_copia)"
   ]
  },
  {
   "cell_type": "code",
   "execution_count": 117,
   "metadata": {},
   "outputs": [
    {
     "name": "stdout",
     "output_type": "stream",
     "text": [
      "[1, 2, 3]\n",
      "[2, 2, 3]\n"
     ]
    }
   ],
   "source": [
    "lista_orig = [1,2,3]\n",
    "lista_copia = lista_orig[:]\n",
    "lista_copia[0] = 2\n",
    "print(lista_orig)\n",
    "print(lista_copia)"
   ]
  },
  {
   "cell_type": "code",
   "execution_count": 122,
   "metadata": {},
   "outputs": [
    {
     "data": {
      "text/plain": [
       "(8, 5, 10, 8)"
      ]
     },
     "execution_count": 122,
     "metadata": {},
     "output_type": "execute_result"
    }
   ],
   "source": [
    "grades[1:3]+grades[4:6]"
   ]
  },
  {
   "cell_type": "markdown",
   "metadata": {},
   "source": [
    "-----"
   ]
  },
  {
   "cell_type": "markdown",
   "metadata": {},
   "source": [
    "# Voltamos 11h20"
   ]
  },
  {
   "cell_type": "markdown",
   "metadata": {},
   "source": [
    "# DICT's"
   ]
  },
  {
   "cell_type": "markdown",
   "metadata": {},
   "source": [
    "## What is a dictionary?"
   ]
  },
  {
   "cell_type": "markdown",
   "metadata": {},
   "source": [
    "In real life, we use it to find the `description of something`."
   ]
  },
  {
   "cell_type": "markdown",
   "metadata": {},
   "source": [
    "## What are keys and values?"
   ]
  },
  {
   "cell_type": "markdown",
   "metadata": {},
   "source": [
    "`keys`: it is the `something`\n",
    "\n",
    "`values`: it is the `description` of something"
   ]
  },
  {
   "cell_type": "markdown",
   "metadata": {},
   "source": [
    "## Creating a dictionary\n",
    "\n",
    "- Syntax of a dictionary `{key: value}`"
   ]
  },
  {
   "cell_type": "code",
   "execution_count": 123,
   "metadata": {},
   "outputs": [],
   "source": [
    "my_dict={}"
   ]
  },
  {
   "cell_type": "code",
   "execution_count": 124,
   "metadata": {},
   "outputs": [],
   "source": [
    "my_dict=dict()"
   ]
  },
  {
   "cell_type": "code",
   "execution_count": 125,
   "metadata": {},
   "outputs": [
    {
     "data": {
      "text/plain": [
       "dict"
      ]
     },
     "execution_count": 125,
     "metadata": {},
     "output_type": "execute_result"
    }
   ],
   "source": [
    "type(my_dict)"
   ]
  },
  {
   "cell_type": "code",
   "execution_count": 126,
   "metadata": {
    "ExecuteTime": {
     "end_time": "2020-07-10T00:09:37.869696Z",
     "start_time": "2020-07-10T00:09:37.865676Z"
    }
   },
   "outputs": [
    {
     "name": "stdout",
     "output_type": "stream",
     "text": [
      "{'Grão de Bico': 10, 'Feijão': 8, 'Lentilha': 1}\n"
     ]
    }
   ],
   "source": [
    "my_dict = {\n",
    "            'Grão de Bico': 10,\n",
    "            'Feijão': 8,\n",
    "            'Lentilha': 1\n",
    "          }\n",
    "print(my_dict)\n"
   ]
  },
  {
   "cell_type": "code",
   "execution_count": 128,
   "metadata": {},
   "outputs": [
    {
     "name": "stdout",
     "output_type": "stream",
     "text": [
      "{'Grão de Bico': 10, 'Feijão': 8, 'Lentilha': 1, 'Soja': 9}\n"
     ]
    }
   ],
   "source": [
    "my_dict['Soja'] = 9\n",
    "print(my_dict)"
   ]
  },
  {
   "cell_type": "code",
   "execution_count": 130,
   "metadata": {},
   "outputs": [
    {
     "name": "stdout",
     "output_type": "stream",
     "text": [
      "{'Grão de Bico': 9}\n"
     ]
    }
   ],
   "source": [
    "my_dict = {\n",
    "            'Grão de Bico': 10,\n",
    "            'Grão de Bico': 8,\n",
    "            'Grão de Bico': 1\n",
    "          }\n",
    "my_dict['Grão de Bico'] = 9\n",
    "print(my_dict)"
   ]
  },
  {
   "cell_type": "code",
   "execution_count": 131,
   "metadata": {},
   "outputs": [],
   "source": [
    "my_dict = {\n",
    "            'Grão de Bico': 10,\n",
    "            'Feijão': 8,\n",
    "            'Lentilha': 1\n",
    "          }"
   ]
  },
  {
   "cell_type": "code",
   "execution_count": 132,
   "metadata": {},
   "outputs": [
    {
     "name": "stdout",
     "output_type": "stream",
     "text": [
      "{'Grão de Bico': 15, 'Feijão': 8, 'Lentilha': 1}\n"
     ]
    }
   ],
   "source": [
    "my_dict['Grão de Bico'] = 15\n",
    "print(my_dict)"
   ]
  },
  {
   "cell_type": "code",
   "execution_count": 133,
   "metadata": {},
   "outputs": [
    {
     "data": {
      "text/plain": [
       "dict_values([15, 8, 1])"
      ]
     },
     "execution_count": 133,
     "metadata": {},
     "output_type": "execute_result"
    }
   ],
   "source": [
    "my_dict.values()"
   ]
  },
  {
   "cell_type": "code",
   "execution_count": 134,
   "metadata": {},
   "outputs": [
    {
     "data": {
      "text/plain": [
       "dict_keys(['Grão de Bico', 'Feijão', 'Lentilha'])"
      ]
     },
     "execution_count": 134,
     "metadata": {},
     "output_type": "execute_result"
    }
   ],
   "source": [
    "my_dict.keys()"
   ]
  },
  {
   "cell_type": "code",
   "execution_count": 135,
   "metadata": {},
   "outputs": [
    {
     "data": {
      "text/plain": [
       "dict_items([('Grão de Bico', 15), ('Feijão', 8), ('Lentilha', 1)])"
      ]
     },
     "execution_count": 135,
     "metadata": {},
     "output_type": "execute_result"
    }
   ],
   "source": [
    "my_dict.items()"
   ]
  },
  {
   "cell_type": "code",
   "execution_count": 136,
   "metadata": {},
   "outputs": [
    {
     "name": "stdout",
     "output_type": "stream",
     "text": [
      "{'Grão de Bico': 15, 'Feijão': 8, 'Lentilha': 1}\n"
     ]
    }
   ],
   "source": [
    "print(my_dict)"
   ]
  },
  {
   "cell_type": "code",
   "execution_count": 137,
   "metadata": {},
   "outputs": [
    {
     "name": "stdout",
     "output_type": "stream",
     "text": [
      "{'Grão de Bico': 15, 'Feijão': 8, 'Lentilha': 15}\n"
     ]
    }
   ],
   "source": [
    "my_dict['Lentilha'] = 15\n",
    "print(my_dict)"
   ]
  },
  {
   "cell_type": "markdown",
   "metadata": {},
   "source": [
    "## <u>Accessing</u> a dictionary value:"
   ]
  },
  {
   "cell_type": "markdown",
   "metadata": {},
   "source": [
    "- o índice de um dicionário é genérico, é você quem decide."
   ]
  },
  {
   "cell_type": "code",
   "execution_count": 138,
   "metadata": {
    "ExecuteTime": {
     "end_time": "2020-07-10T00:10:26.565681Z",
     "start_time": "2020-07-10T00:10:26.560695Z"
    }
   },
   "outputs": [
    {
     "name": "stdout",
     "output_type": "stream",
     "text": [
      "150\n"
     ]
    }
   ],
   "source": [
    "preco_10kg_gb = my_dict['Grão de Bico']*10\n",
    "print(preco_10kg_gb)"
   ]
  },
  {
   "cell_type": "markdown",
   "metadata": {},
   "source": [
    "## Creating new items for your dictionary"
   ]
  },
  {
   "cell_type": "code",
   "execution_count": 143,
   "metadata": {},
   "outputs": [],
   "source": [
    "# by accessing a non-existent key and then assigning a value\n",
    "my_dict['Ervilha Partida'] = 9"
   ]
  },
  {
   "cell_type": "code",
   "execution_count": null,
   "metadata": {},
   "outputs": [],
   "source": [
    "my_dict.keys()"
   ]
  },
  {
   "cell_type": "code",
   "execution_count": 146,
   "metadata": {},
   "outputs": [
    {
     "data": {
      "text/plain": [
       "{'Grão de Bico': 15, 'Feijão': 8, 'Lentilha': 15, 'Ervilha Partida': 9}"
      ]
     },
     "execution_count": 146,
     "metadata": {},
     "output_type": "execute_result"
    }
   ],
   "source": [
    "my_dict"
   ]
  },
  {
   "cell_type": "code",
   "execution_count": 149,
   "metadata": {},
   "outputs": [
    {
     "name": "stdout",
     "output_type": "stream",
     "text": [
      "{'Lentilha': 5, 'Arroz Integral': 8.5}\n"
     ]
    }
   ],
   "source": [
    "# using `.update()` function containing a new dict inside\n",
    "new_dict = dict()\n",
    "new_dict['Lentilha'] = 5\n",
    "new_dict['Arroz Integral'] = 8.5\n",
    "print(new_dict)"
   ]
  },
  {
   "cell_type": "code",
   "execution_count": 150,
   "metadata": {},
   "outputs": [
    {
     "name": "stdout",
     "output_type": "stream",
     "text": [
      "{'Grão de Bico': 15, 'Feijão': 8, 'Lentilha': 5, 'Ervilha Partida': 9, 'Arroz': 5, 'Arroz Integral': 8.5}\n"
     ]
    }
   ],
   "source": [
    "my_dict.update(new_dict)\n",
    "print(my_dict)\n",
    "my_dict_copy = my_dict"
   ]
  },
  {
   "cell_type": "code",
   "execution_count": 151,
   "metadata": {},
   "outputs": [
    {
     "name": "stdout",
     "output_type": "stream",
     "text": [
      "{'Grão de Bico': 15, 'Feijão': 8, 'Lentilha': 5, 'Ervilha Partida': 9, 'Arroz': 5, 'Arroz Integral': 8.5}\n"
     ]
    }
   ],
   "source": [
    "print(my_dict)"
   ]
  },
  {
   "cell_type": "code",
   "execution_count": 154,
   "metadata": {},
   "outputs": [],
   "source": [
    "my_dict_copy = my_dict.copy()"
   ]
  },
  {
   "cell_type": "code",
   "execution_count": 155,
   "metadata": {},
   "outputs": [
    {
     "name": "stdout",
     "output_type": "stream",
     "text": [
      "{'Grão de Bico': 15, 'Feijão': 8, 'Lentilha': 5, 'Ervilha Partida': 9, 'Arroz': 5, 'Arroz Integral': 8.5}\n",
      "{'Grão de Bico': 'Não tem', 'Feijão': 8, 'Lentilha': 5, 'Ervilha Partida': 9, 'Arroz': 5, 'Arroz Integral': 8.5}\n"
     ]
    }
   ],
   "source": [
    "my_dict['Grão de Bico'] = 15\n",
    "print(my_dict)\n",
    "print(my_dict_copy)"
   ]
  },
  {
   "cell_type": "code",
   "execution_count": 158,
   "metadata": {},
   "outputs": [
    {
     "name": "stdout",
     "output_type": "stream",
     "text": [
      "3\n"
     ]
    }
   ],
   "source": [
    "graos = ['Feijão Branco', 'Lentilha Síria', 'Feijão Branco']\n",
    "valores = [9.50, 13, 8.50]\n",
    "print(range(len(graos)))"
   ]
  },
  {
   "cell_type": "code",
   "execution_count": 160,
   "metadata": {},
   "outputs": [
    {
     "name": "stdout",
     "output_type": "stream",
     "text": [
      "[0, 1, 2]\n"
     ]
    }
   ],
   "source": [
    "print(list(range(len(graos))))"
   ]
  },
  {
   "cell_type": "code",
   "execution_count": 161,
   "metadata": {},
   "outputs": [
    {
     "name": "stdout",
     "output_type": "stream",
     "text": [
      "Feijão Branco 9.5\n",
      "Lentilha Síria 13\n",
      "Feijão Branco 8.5\n"
     ]
    }
   ],
   "source": [
    "for i in range(len(graos)):\n",
    "    print(graos[i], valores[i])\n",
    "    my_dict[graos[i]]=valores[i]"
   ]
  },
  {
   "cell_type": "code",
   "execution_count": 162,
   "metadata": {},
   "outputs": [
    {
     "name": "stdout",
     "output_type": "stream",
     "text": [
      "{'Grão de Bico': 15, 'Feijão': 8, 'Lentilha': 5, 'Ervilha Partida': 9, 'Arroz': 5, 'Arroz Integral': 8.5, 'Feijão Branco': 8.5, 'Lentilha Síria': 13}\n"
     ]
    }
   ],
   "source": [
    "print(my_dict)"
   ]
  },
  {
   "cell_type": "code",
   "execution_count": null,
   "metadata": {},
   "outputs": [],
   "source": [
    "# 1o loop\n",
    "print(graos[0])\n",
    "print(valores[0])\n",
    "my_dict['Feijão Branco']=9.5\n",
    "\n",
    "# 2o loop\n",
    "print(graos[1])\n",
    "print(valores[1])\n",
    "my_dict['Lentilha Síria']=13"
   ]
  },
  {
   "cell_type": "code",
   "execution_count": 164,
   "metadata": {},
   "outputs": [
    {
     "name": "stdout",
     "output_type": "stream",
     "text": [
      "True\n",
      "True\n",
      "Lentilha Verde\n"
     ]
    }
   ],
   "source": [
    "novos_precos = [('Lentilha Verde', 9), ('Abobrinha', 3), ('Beringela', 8)]\n",
    "print(novos_precos[0] == ('Lentilha Verde', 9))\n",
    "print(novos_precos[1] == ('Abobrinha', 3))\n",
    "print(novos_precos[i][0])"
   ]
  },
  {
   "cell_type": "code",
   "execution_count": 167,
   "metadata": {},
   "outputs": [
    {
     "name": "stdout",
     "output_type": "stream",
     "text": [
      "('Lentilha Verde', 9)\n"
     ]
    }
   ],
   "source": [
    "print(novos_precos[0])"
   ]
  },
  {
   "cell_type": "code",
   "execution_count": 168,
   "metadata": {},
   "outputs": [],
   "source": [
    "lent = novos_precos[0]"
   ]
  },
  {
   "cell_type": "code",
   "execution_count": 169,
   "metadata": {},
   "outputs": [
    {
     "name": "stdout",
     "output_type": "stream",
     "text": [
      "('Lentilha Verde', 9)\n"
     ]
    }
   ],
   "source": [
    "print(lent)"
   ]
  },
  {
   "cell_type": "code",
   "execution_count": 170,
   "metadata": {},
   "outputs": [
    {
     "data": {
      "text/plain": [
       "9"
      ]
     },
     "execution_count": 170,
     "metadata": {},
     "output_type": "execute_result"
    }
   ],
   "source": [
    "lent[0]\n",
    "lent[1]"
   ]
  },
  {
   "cell_type": "code",
   "execution_count": 171,
   "metadata": {
    "scrolled": true
   },
   "outputs": [
    {
     "name": "stdout",
     "output_type": "stream",
     "text": [
      "Lentilha Verde\n",
      "9\n"
     ]
    }
   ],
   "source": [
    "print(novos_precos[0][0])\n",
    "print(novos_precos[0][1])"
   ]
  },
  {
   "cell_type": "code",
   "execution_count": 166,
   "metadata": {},
   "outputs": [
    {
     "name": "stdout",
     "output_type": "stream",
     "text": [
      "{'Grão de Bico': 15, 'Feijão': 8, 'Lentilha': 5, 'Ervilha Partida': 9, 'Arroz': 5, 'Arroz Integral': 8.5, 'Feijão Branco': 8.5, 'Lentilha Síria': 13, 'Lentilha Verde': 9, 'Abobrinha': 3, 'Beringela': 8}\n"
     ]
    }
   ],
   "source": [
    "for i in range(len(novos_precos)):\n",
    "    my_dict[novos_precos[i][0]] = novos_precos[i][1]\n",
    "print(my_dict)"
   ]
  },
  {
   "cell_type": "markdown",
   "metadata": {},
   "source": [
    "## A value can be anything"
   ]
  },
  {
   "cell_type": "code",
   "execution_count": 172,
   "metadata": {},
   "outputs": [],
   "source": [
    "# Your code here!\n",
    "my_dict = {\n",
    "            'Grão de Bico': (10, 10.3, 10.5, 11),\n",
    "            'Feijão': [8, 9, 10]\n",
    "          }"
   ]
  },
  {
   "cell_type": "code",
   "execution_count": 173,
   "metadata": {},
   "outputs": [
    {
     "data": {
      "text/plain": [
       "{'Grão de Bico': (10, 10.3, 10.5, 11), 'Feijão': [8, 9, 10]}"
      ]
     },
     "execution_count": 173,
     "metadata": {},
     "output_type": "execute_result"
    }
   ],
   "source": [
    "my_dict"
   ]
  },
  {
   "cell_type": "code",
   "execution_count": 174,
   "metadata": {},
   "outputs": [
    {
     "data": {
      "text/plain": [
       "tuple"
      ]
     },
     "execution_count": 174,
     "metadata": {},
     "output_type": "execute_result"
    }
   ],
   "source": [
    "type(my_dict['Grão de Bico'])"
   ]
  },
  {
   "cell_type": "code",
   "execution_count": 175,
   "metadata": {},
   "outputs": [
    {
     "data": {
      "text/plain": [
       "list"
      ]
     },
     "execution_count": 175,
     "metadata": {},
     "output_type": "execute_result"
    }
   ],
   "source": [
    "type(my_dict['Feijão'])"
   ]
  },
  {
   "cell_type": "code",
   "execution_count": 177,
   "metadata": {},
   "outputs": [
    {
     "ename": "TypeError",
     "evalue": "unhashable type: 'list'",
     "output_type": "error",
     "traceback": [
      "\u001b[1;31m---------------------------------------------------------------------------\u001b[0m",
      "\u001b[1;31mTypeError\u001b[0m                                 Traceback (most recent call last)",
      "\u001b[1;32m<ipython-input-177-f68574585c60>\u001b[0m in \u001b[0;36m<module>\u001b[1;34m\u001b[0m\n\u001b[0;32m      1\u001b[0m \u001b[0mmy_dict\u001b[0m\u001b[1;33m.\u001b[0m\u001b[0mvalues\u001b[0m\u001b[1;33m(\u001b[0m\u001b[1;33m)\u001b[0m\u001b[1;33m\u001b[0m\u001b[1;33m\u001b[0m\u001b[0m\n\u001b[1;32m----> 2\u001b[1;33m \u001b[0mmy_dict\u001b[0m\u001b[1;33m[\u001b[0m\u001b[1;33m[\u001b[0m\u001b[1;36m1\u001b[0m\u001b[1;33m,\u001b[0m\u001b[1;36m2\u001b[0m\u001b[1;33m,\u001b[0m\u001b[1;36m3\u001b[0m\u001b[1;33m]\u001b[0m\u001b[1;33m]\u001b[0m \u001b[1;33m=\u001b[0m \u001b[1;36m5\u001b[0m\u001b[1;33m\u001b[0m\u001b[1;33m\u001b[0m\u001b[0m\n\u001b[0m",
      "\u001b[1;31mTypeError\u001b[0m: unhashable type: 'list'"
     ]
    }
   ],
   "source": [
    "my_dict.values()\n",
    "my_dict[[1,2,3]] = 5"
   ]
  },
  {
   "cell_type": "code",
   "execution_count": null,
   "metadata": {},
   "outputs": [],
   "source": [
    "for value in my_dict.values():\n",
    "    print(type(value))"
   ]
  },
  {
   "cell_type": "code",
   "execution_count": 178,
   "metadata": {},
   "outputs": [
    {
     "name": "stdout",
     "output_type": "stream",
     "text": [
      "{'id': 1, 'tamanho': 80, 'dim_terreno': (20, 30), 'endereco': {'rua': 'Al. das Maritacas', 'numero': 1637, 'bairro': 'Cidade Jardim', 'cep': 39272440}}\n"
     ]
    }
   ],
   "source": [
    "# Até outros dicionarios\n",
    "casa = dict()\n",
    "casa['id'] = 1\n",
    "casa['tamanho'] = 80\n",
    "casa['dim_terreno'] = (20, 30)\n",
    "casa['endereco'] = dict()\n",
    "casa['endereco']['rua'] = 'Al. das Maritacas'\n",
    "casa['endereco']['numero'] = 1637\n",
    "casa['endereco']['bairro'] = 'Cidade Jardim'\n",
    "casa['endereco']['cep'] = 39272440\n",
    "print(casa)"
   ]
  },
  {
   "cell_type": "code",
   "execution_count": 179,
   "metadata": {},
   "outputs": [
    {
     "name": "stdout",
     "output_type": "stream",
     "text": [
      "<class 'dict'>\n",
      "<class 'tuple'>\n",
      "<class 'dict'>\n"
     ]
    }
   ],
   "source": [
    "print(type(casa))\n",
    "print(type(casa['dim_terreno']))\n",
    "print(type(casa['endereco']))"
   ]
  },
  {
   "cell_type": "code",
   "execution_count": 182,
   "metadata": {},
   "outputs": [
    {
     "name": "stdout",
     "output_type": "stream",
     "text": [
      "Al. das Maritacas\n"
     ]
    }
   ],
   "source": [
    "print(casa['endereco']['rua'])"
   ]
  },
  {
   "cell_type": "markdown",
   "metadata": {},
   "source": [
    "## Um exemplo real\n",
    "Vamos analisar um exemplo comumente encontrado em análise de dados: extração de dados de uma API. Para este exemplo usaremos a API do Ambee (https://www.getambee.com/) para extrair dados de qualidade do ar em três cidades (São Paulo, Belo Horizonte e a pujante métropole de Pirassununga). Veremos formas de entender o que uma API retorna utilizando os métodos de dicionários"
   ]
  },
  {
   "cell_type": "code",
   "execution_count": 183,
   "metadata": {},
   "outputs": [],
   "source": [
    "import requests\n",
    "TOKEN = 'c0c9147ec699d5205de0cbb2f5ad611c9aae0b41edeaf6092728677d06356836'\n",
    "url = \"https://api.ambeedata.com/latest/by-city\"\n",
    "headers = {\n",
    "    'x-api-key': TOKEN,\n",
    "    'Content-type': \"application/json\"\n",
    "    }"
   ]
  },
  {
   "cell_type": "code",
   "execution_count": 184,
   "metadata": {},
   "outputs": [],
   "source": [
    "querystring = {\"city\":\"Sao Paulo\"}\n",
    "response = requests.request(\"GET\", url, headers=headers, params=querystring)\n",
    "ql_ar_sp = response.json()"
   ]
  },
  {
   "cell_type": "code",
   "execution_count": 185,
   "metadata": {},
   "outputs": [],
   "source": [
    "querystring = {\"city\":\"Belo Horizonte\"}\n",
    "response = requests.request(\"GET\", url, headers=headers, params=querystring)\n",
    "ql_ar_bh = response.json()"
   ]
  },
  {
   "cell_type": "code",
   "execution_count": 186,
   "metadata": {},
   "outputs": [],
   "source": [
    "querystring = {\"city\":\"Pirassununga\"}\n",
    "response = requests.request(\"GET\", url, headers=headers, params=querystring)\n",
    "ql_ar_pira = response.json()"
   ]
  },
  {
   "cell_type": "code",
   "execution_count": 187,
   "metadata": {},
   "outputs": [
    {
     "name": "stdout",
     "output_type": "stream",
     "text": [
      "{'message': 'success', 'stations': [{'_id': '60363be18f2bb86af9398a6c', 'placeId': '13991eba7f6caaaf0830f7574f0fa70052de3b51d28ba8264782466ffd78851f', 'CO': 1, 'NO2': 0.022, 'OZONE': 18.5, 'PM10': 39.808, 'PM25': 23.88, 'SO2': 10.966, 'city': None, 'countryCode': 'BR', 'division': None, 'lat': -23.627, 'lng': -46.635, 'placeName': 'São Paulo', 'postalCode': '01000-000', 'state': 'Sao Paulo', 'updatedAt': '2021-11-07 23:00:00', 'AQI': 76, 'aqiInfo': {'pollutant': 'PM2.5', 'concentration': 23.88, 'category': 'Moderate'}}]}\n"
     ]
    }
   ],
   "source": [
    "print(ql_ar_sp)"
   ]
  },
  {
   "cell_type": "markdown",
   "metadata": {},
   "source": [
    "# Dictionary <u>methods</u>\n",
    "\n",
    "- `.keys()`\n",
    "- `.values()`\n",
    "- `.items()`\n",
    "- `.update()`"
   ]
  },
  {
   "cell_type": "code",
   "execution_count": 207,
   "metadata": {},
   "outputs": [
    {
     "name": "stdout",
     "output_type": "stream",
     "text": [
      "dict_keys(['message', 'stations'])\n",
      "<class 'list'>\n",
      "[{'_id': '60363be18f2bb86af9398a6c', 'placeId': '13991eba7f6caaaf0830f7574f0fa70052de3b51d28ba8264782466ffd78851f', 'CO': 1, 'NO2': 0.022, 'OZONE': 18.5, 'PM10': 39.808, 'PM25': 23.88, 'SO2': 10.966, 'city': None, 'countryCode': 'BR', 'division': None, 'lat': -23.627, 'lng': -46.635, 'placeName': 'São Paulo', 'postalCode': '01000-000', 'state': 'Sao Paulo', 'updatedAt': '2021-11-07 23:00:00', 'AQI': 76, 'aqiInfo': {'pollutant': 'PM2.5', 'concentration': 23.88, 'category': 'Moderate'}}]\n",
      "1\n",
      "19\n"
     ]
    }
   ],
   "source": [
    "print(ql_ar_sp.keys())\n",
    "print(type(ql_ar_sp['stations']))\n",
    "print(ql_ar_sp['stations'])\n",
    "print(len(ql_ar_sp['stations']))\n",
    "print(len(ql_ar_sp['stations'][0].keys()))"
   ]
  },
  {
   "cell_type": "code",
   "execution_count": 212,
   "metadata": {},
   "outputs": [
    {
     "name": "stdout",
     "output_type": "stream",
     "text": [
      "<class 'list'>\n",
      "<class 'dict'>\n"
     ]
    }
   ],
   "source": [
    "print(type(ql_ar_sp['stations']))\n",
    "print(type(ql_ar_sp['stations'][0]))"
   ]
  },
  {
   "cell_type": "code",
   "execution_count": 208,
   "metadata": {},
   "outputs": [
    {
     "name": "stdout",
     "output_type": "stream",
     "text": [
      "SP: Moderate\n",
      "BH: Good\n",
      "Pirassununga: Moderate\n"
     ]
    }
   ],
   "source": [
    "dict_ql_ar_sp = ql_ar_sp['stations'][0]\n",
    "dict_ql_ar_bh = ql_ar_bh['stations'][0]\n",
    "dict_ql_ar_pira = ql_ar_pira['stations'][0]\n",
    "\n",
    "print('SP: ' + str(dict_ql_ar_sp['aqiInfo']['category']))\n",
    "print('BH: ' + str(dict_ql_ar_bh['aqiInfo']['category']))\n",
    "print('Pirassununga: ' + str(dict_ql_ar_pira['aqiInfo']['category']))"
   ]
  },
  {
   "cell_type": "markdown",
   "metadata": {},
   "source": [
    "## Iterating through a dict"
   ]
  },
  {
   "cell_type": "code",
   "execution_count": null,
   "metadata": {},
   "outputs": [],
   "source": [
    "for chave in casa:\n",
    "    print(chave)"
   ]
  },
  {
   "cell_type": "code",
   "execution_count": null,
   "metadata": {
    "ExecuteTime": {
     "end_time": "2020-07-10T00:32:18.522307Z",
     "start_time": "2020-07-10T00:32:18.518319Z"
    }
   },
   "outputs": [],
   "source": [
    "for chave in casa.keys():\n",
    "    print(f'{chave}: {casa[chave]}')"
   ]
  },
  {
   "cell_type": "code",
   "execution_count": null,
   "metadata": {},
   "outputs": [],
   "source": [
    "# Your code here\n",
    "for atributo in casa.items():\n",
    "    print(atributo)"
   ]
  },
  {
   "cell_type": "code",
   "execution_count": null,
   "metadata": {},
   "outputs": [],
   "source": [
    "# Your code here\n",
    "for valor in casa.values():\n",
    "    print(valor)"
   ]
  },
  {
   "cell_type": "code",
   "execution_count": null,
   "metadata": {},
   "outputs": [],
   "source": [
    "casa"
   ]
  },
  {
   "cell_type": "markdown",
   "metadata": {},
   "source": [
    "## Loops can receive more than 1 argument"
   ]
  },
  {
   "cell_type": "code",
   "execution_count": 213,
   "metadata": {},
   "outputs": [],
   "source": [
    "my_dict = {\n",
    "            'Grão de Bico': 10,\n",
    "            'Feijão': 8,\n",
    "            'Lentilha': 1\n",
    "          }"
   ]
  },
  {
   "cell_type": "code",
   "execution_count": 214,
   "metadata": {},
   "outputs": [
    {
     "name": "stdout",
     "output_type": "stream",
     "text": [
      "1\n",
      "2\n"
     ]
    }
   ],
   "source": [
    "a, b = (1, 2)\n",
    "print(a)\n",
    "print(b)"
   ]
  },
  {
   "cell_type": "code",
   "execution_count": 215,
   "metadata": {},
   "outputs": [
    {
     "name": "stdout",
     "output_type": "stream",
     "text": [
      "dict_items([('Grão de Bico', 10), ('Feijão', 8), ('Lentilha', 1)])\n"
     ]
    }
   ],
   "source": [
    "print(my_dict.items())"
   ]
  },
  {
   "cell_type": "code",
   "execution_count": 217,
   "metadata": {},
   "outputs": [
    {
     "name": "stdout",
     "output_type": "stream",
     "text": [
      "Grão de Bico\n",
      "10\n",
      "Feijão\n",
      "8\n",
      "8\n",
      "Lentilha\n",
      "1\n",
      "1\n"
     ]
    }
   ],
   "source": [
    "for grao, preco in my_dict.items():\n",
    "    print(grao)\n",
    "    print(preco)\n",
    "    if grao == 'Feijão' or grao == 'Lentilha':\n",
    "        print(preco)"
   ]
  },
  {
   "cell_type": "code",
   "execution_count": 218,
   "metadata": {},
   "outputs": [
    {
     "name": "stdout",
     "output_type": "stream",
     "text": [
      "Lentilha\n"
     ]
    }
   ],
   "source": [
    "print(grao)"
   ]
  },
  {
   "cell_type": "markdown",
   "metadata": {},
   "source": [
    "## Verifying if a key is `in` the dictionary"
   ]
  },
  {
   "cell_type": "code",
   "execution_count": 220,
   "metadata": {
    "ExecuteTime": {
     "end_time": "2020-07-10T00:35:27.646645Z",
     "start_time": "2020-07-10T00:35:27.642656Z"
    }
   },
   "outputs": [
    {
     "name": "stdout",
     "output_type": "stream",
     "text": [
      "{'Grão de Bico': 10, 'Feijão': 8, 'Lentilha': 1}\n"
     ]
    }
   ],
   "source": [
    "# how it works with lists?\n",
    "1 in [1, 2, 3]\n",
    "print(my_dict)"
   ]
  },
  {
   "cell_type": "code",
   "execution_count": 222,
   "metadata": {},
   "outputs": [
    {
     "data": {
      "text/plain": [
       "True"
      ]
     },
     "execution_count": 222,
     "metadata": {},
     "output_type": "execute_result"
    }
   ],
   "source": [
    "8 in my_dict.values()"
   ]
  },
  {
   "cell_type": "markdown",
   "metadata": {},
   "source": [
    "actually, it works like this with any **iterable**"
   ]
  },
  {
   "cell_type": "code",
   "execution_count": 223,
   "metadata": {},
   "outputs": [
    {
     "data": {
      "text/plain": [
       "False"
      ]
     },
     "execution_count": 223,
     "metadata": {},
     "output_type": "execute_result"
    }
   ],
   "source": [
    "'abcd' in 'abc'"
   ]
  },
  {
   "cell_type": "code",
   "execution_count": 224,
   "metadata": {},
   "outputs": [
    {
     "data": {
      "text/plain": [
       "True"
      ]
     },
     "execution_count": 224,
     "metadata": {},
     "output_type": "execute_result"
    }
   ],
   "source": [
    "'abc' in 'abcd'"
   ]
  },
  {
   "cell_type": "code",
   "execution_count": 225,
   "metadata": {
    "ExecuteTime": {
     "end_time": "2020-07-10T00:35:58.854050Z",
     "start_time": "2020-07-10T00:35:58.851057Z"
    }
   },
   "outputs": [
    {
     "data": {
      "text/plain": [
       "True"
      ]
     },
     "execution_count": 225,
     "metadata": {},
     "output_type": "execute_result"
    }
   ],
   "source": [
    "1 in (1, 2, 3)"
   ]
  },
  {
   "cell_type": "markdown",
   "metadata": {},
   "source": [
    "-----"
   ]
  },
  {
   "cell_type": "markdown",
   "metadata": {},
   "source": [
    "# VOLTAMOS AS 14H"
   ]
  },
  {
   "cell_type": "markdown",
   "metadata": {},
   "source": [
    "# SETS\n",
    "\n",
    "Sets are just like dictionaries, but they only have `keys`.\n",
    "\n",
    "And just like `keys` in a dictionary, there are no `duplicates`. You can imagine a set like a [venn-diagram](https://pt.wikipedia.org/wiki/Diagrama_de_Venn) containing the elements you want."
   ]
  },
  {
   "cell_type": "code",
   "execution_count": 226,
   "metadata": {},
   "outputs": [],
   "source": [
    "my_list = ['Pedro', 'Adriano', 'Pedro', 'Adriano', 'Pedro', 'Adriano']"
   ]
  },
  {
   "cell_type": "code",
   "execution_count": 227,
   "metadata": {},
   "outputs": [
    {
     "data": {
      "text/plain": [
       "['Pedro', 'Adriano', 'Pedro', 'Adriano', 'Pedro', 'Adriano']"
      ]
     },
     "execution_count": 227,
     "metadata": {},
     "output_type": "execute_result"
    }
   ],
   "source": [
    "my_list"
   ]
  },
  {
   "cell_type": "code",
   "execution_count": 228,
   "metadata": {},
   "outputs": [
    {
     "data": {
      "text/plain": [
       "{'Adriano', 'Pedro'}"
      ]
     },
     "execution_count": 228,
     "metadata": {},
     "output_type": "execute_result"
    }
   ],
   "source": [
    "set(my_list)"
   ]
  },
  {
   "cell_type": "markdown",
   "metadata": {},
   "source": [
    "----"
   ]
  },
  {
   "cell_type": "code",
   "execution_count": 229,
   "metadata": {
    "ExecuteTime": {
     "end_time": "2020-07-10T00:41:55.690528Z",
     "start_time": "2020-07-10T00:41:55.686511Z"
    }
   },
   "outputs": [
    {
     "data": {
      "text/plain": [
       "{1, 2, 3, 4, 5, 6, 7, 8}"
      ]
     },
     "execution_count": 229,
     "metadata": {},
     "output_type": "execute_result"
    }
   ],
   "source": [
    "x = set([1,2,3,4,4,4,4,4,5,6,6,6,7,7,8])\n",
    "x"
   ]
  },
  {
   "cell_type": "code",
   "execution_count": 230,
   "metadata": {
    "ExecuteTime": {
     "end_time": "2020-07-10T00:42:16.991900Z",
     "start_time": "2020-07-10T00:42:16.987910Z"
    }
   },
   "outputs": [
    {
     "data": {
      "text/plain": [
       "{6, 7, 8, 10, 12}"
      ]
     },
     "execution_count": 230,
     "metadata": {},
     "output_type": "execute_result"
    }
   ],
   "source": [
    "y = set([8,8,6,7, 10, 12])\n",
    "y"
   ]
  },
  {
   "cell_type": "code",
   "execution_count": 231,
   "metadata": {},
   "outputs": [
    {
     "data": {
      "text/plain": [
       "set"
      ]
     },
     "execution_count": 231,
     "metadata": {},
     "output_type": "execute_result"
    }
   ],
   "source": [
    "type(set([8,8,6,7, 10, 12]))"
   ]
  },
  {
   "cell_type": "code",
   "execution_count": null,
   "metadata": {
    "ExecuteTime": {
     "end_time": "2020-07-10T00:42:29.600067Z",
     "start_time": "2020-07-10T00:42:29.596053Z"
    }
   },
   "outputs": [],
   "source": [
    "type(y)"
   ]
  },
  {
   "cell_type": "markdown",
   "metadata": {},
   "source": [
    "## Set methods"
   ]
  },
  {
   "cell_type": "code",
   "execution_count": 232,
   "metadata": {},
   "outputs": [
    {
     "data": {
      "text/plain": [
       "{1, 2, 3, 4, 5, 6, 7, 8}"
      ]
     },
     "execution_count": 232,
     "metadata": {},
     "output_type": "execute_result"
    }
   ],
   "source": [
    "x"
   ]
  },
  {
   "cell_type": "code",
   "execution_count": 233,
   "metadata": {},
   "outputs": [
    {
     "data": {
      "text/plain": [
       "{6, 7, 8, 10, 12}"
      ]
     },
     "execution_count": 233,
     "metadata": {},
     "output_type": "execute_result"
    }
   ],
   "source": [
    "y"
   ]
  },
  {
   "cell_type": "code",
   "execution_count": 234,
   "metadata": {
    "ExecuteTime": {
     "end_time": "2020-07-10T00:44:50.502397Z",
     "start_time": "2020-07-10T00:44:50.498409Z"
    }
   },
   "outputs": [
    {
     "data": {
      "text/plain": [
       "{6, 7, 8}"
      ]
     },
     "execution_count": 234,
     "metadata": {},
     "output_type": "execute_result"
    }
   ],
   "source": [
    "# Your code here\n",
    "x.intersection(y)"
   ]
  },
  {
   "cell_type": "code",
   "execution_count": 235,
   "metadata": {},
   "outputs": [
    {
     "data": {
      "text/plain": [
       "{6, 7, 8}"
      ]
     },
     "execution_count": 235,
     "metadata": {},
     "output_type": "execute_result"
    }
   ],
   "source": [
    "y.intersection(x)"
   ]
  },
  {
   "cell_type": "code",
   "execution_count": 236,
   "metadata": {},
   "outputs": [
    {
     "data": {
      "text/plain": [
       "{1, 2, 3, 4, 5}"
      ]
     },
     "execution_count": 236,
     "metadata": {},
     "output_type": "execute_result"
    }
   ],
   "source": [
    "x.difference(y)"
   ]
  },
  {
   "cell_type": "code",
   "execution_count": 237,
   "metadata": {},
   "outputs": [
    {
     "data": {
      "text/plain": [
       "{10, 12}"
      ]
     },
     "execution_count": 237,
     "metadata": {},
     "output_type": "execute_result"
    }
   ],
   "source": [
    "y.difference(x)"
   ]
  },
  {
   "cell_type": "code",
   "execution_count": 238,
   "metadata": {},
   "outputs": [
    {
     "data": {
      "text/plain": [
       "{1, 2, 3, 4, 5}"
      ]
     },
     "execution_count": 238,
     "metadata": {},
     "output_type": "execute_result"
    }
   ],
   "source": [
    "x-y # x.difference(y)"
   ]
  },
  {
   "cell_type": "code",
   "execution_count": 239,
   "metadata": {},
   "outputs": [
    {
     "data": {
      "text/plain": [
       "{10, 12}"
      ]
     },
     "execution_count": 239,
     "metadata": {},
     "output_type": "execute_result"
    }
   ],
   "source": [
    "y-x # y.difference(y)"
   ]
  },
  {
   "cell_type": "code",
   "execution_count": 240,
   "metadata": {},
   "outputs": [
    {
     "data": {
      "text/plain": [
       "{1, 2, 3, 4, 5, 6, 7, 8, 10, 12}"
      ]
     },
     "execution_count": 240,
     "metadata": {},
     "output_type": "execute_result"
    }
   ],
   "source": [
    "x.union(y)"
   ]
  },
  {
   "cell_type": "code",
   "execution_count": 242,
   "metadata": {},
   "outputs": [
    {
     "data": {
      "text/plain": [
       "{1, 2, 3, 4, 5, 10, 12}"
      ]
     },
     "execution_count": 242,
     "metadata": {},
     "output_type": "execute_result"
    }
   ],
   "source": [
    "(x-y).union(y-x)"
   ]
  },
  {
   "cell_type": "code",
   "execution_count": 243,
   "metadata": {},
   "outputs": [
    {
     "data": {
      "text/plain": [
       "{1, 2, 3, 4, 5, 10, 12}"
      ]
     },
     "execution_count": 243,
     "metadata": {},
     "output_type": "execute_result"
    }
   ],
   "source": [
    "x.symmetric_difference(y)"
   ]
  },
  {
   "cell_type": "code",
   "execution_count": 271,
   "metadata": {},
   "outputs": [],
   "source": [
    "x = set([1,2,3])"
   ]
  },
  {
   "cell_type": "code",
   "execution_count": 268,
   "metadata": {},
   "outputs": [
    {
     "data": {
      "text/plain": [
       "bool"
      ]
     },
     "execution_count": 268,
     "metadata": {},
     "output_type": "execute_result"
    }
   ],
   "source": [
    "set([1,2,3, 25]).issubset(x)"
   ]
  },
  {
   "cell_type": "code",
   "execution_count": 265,
   "metadata": {},
   "outputs": [
    {
     "name": "stdout",
     "output_type": "stream",
     "text": [
      "Ola\n"
     ]
    }
   ],
   "source": [
    "a = [print, 'A', 2,3,1]\n",
    "a[0]('Ola')"
   ]
  },
  {
   "cell_type": "code",
   "execution_count": 275,
   "metadata": {},
   "outputs": [
    {
     "data": {
      "text/plain": [
       "False"
      ]
     },
     "execution_count": 275,
     "metadata": {},
     "output_type": "execute_result"
    }
   ],
   "source": [
    "4 in x"
   ]
  },
  {
   "cell_type": "code",
   "execution_count": 277,
   "metadata": {
    "ExecuteTime": {
     "end_time": "2020-07-10T00:47:18.291003Z",
     "start_time": "2020-07-10T00:47:18.286016Z"
    }
   },
   "outputs": [
    {
     "name": "stdout",
     "output_type": "stream",
     "text": [
      "Missing columns: set()\n"
     ]
    }
   ],
   "source": [
    "# Practical example\n",
    "col_names = set(['qtd_cartoes', 'vlr_cartao','qtd_cheques','vlr_cheques'])\n",
    "\n",
    "incoming_col_names = set(['qtd_cartoes', 'vlr_cartao','qtd_cheques','vlr_cheques'])\n",
    "\n",
    "# print(f'Missing columns: {set(col_names) - set(incoming_col_names)}')\n",
    "missing_columns = col_names.difference(incoming_col_names)\n",
    "print(f'Missing columns: {missing_columns}')"
   ]
  },
  {
   "cell_type": "code",
   "execution_count": 289,
   "metadata": {},
   "outputs": [
    {
     "data": {
      "text/plain": [
       "dict_values([10, 8, 1])"
      ]
     },
     "execution_count": 289,
     "metadata": {},
     "output_type": "execute_result"
    }
   ],
   "source": [
    "my_dict.values()"
   ]
  }
 ],
 "metadata": {
  "kernelspec": {
   "display_name": "Python 3",
   "language": "python",
   "name": "python3"
  },
  "language_info": {
   "codemirror_mode": {
    "name": "ipython",
    "version": 3
   },
   "file_extension": ".py",
   "mimetype": "text/x-python",
   "name": "python",
   "nbconvert_exporter": "python",
   "pygments_lexer": "ipython3",
   "version": "3.8.8"
  },
  "toc": {
   "base_numbering": 1,
   "nav_menu": {},
   "number_sections": true,
   "sideBar": true,
   "skip_h1_title": false,
   "title_cell": "Table of Contents",
   "title_sidebar": "Contents",
   "toc_cell": false,
   "toc_position": {},
   "toc_section_display": true,
   "toc_window_display": false
  },
  "varInspector": {
   "cols": {
    "lenName": 16,
    "lenType": 16,
    "lenVar": 40
   },
   "kernels_config": {
    "python": {
     "delete_cmd_postfix": "",
     "delete_cmd_prefix": "del ",
     "library": "var_list.py",
     "varRefreshCmd": "print(var_dic_list())"
    },
    "r": {
     "delete_cmd_postfix": ") ",
     "delete_cmd_prefix": "rm(",
     "library": "var_list.r",
     "varRefreshCmd": "cat(var_dic_list()) "
    }
   },
   "types_to_exclude": [
    "module",
    "function",
    "builtin_function_or_method",
    "instance",
    "_Feature"
   ],
   "window_display": false
  }
 },
 "nbformat": 4,
 "nbformat_minor": 4
}
